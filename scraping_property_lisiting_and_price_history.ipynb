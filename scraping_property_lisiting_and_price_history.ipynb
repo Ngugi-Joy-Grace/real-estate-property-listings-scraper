{
  "nbformat": 4,
  "nbformat_minor": 0,
  "metadata": {
    "colab": {
      "provenance": [],
      "history_visible": true
    },
    "kernelspec": {
      "name": "python3",
      "display_name": "Python 3"
    },
    "language_info": {
      "name": "python"
    }
  },
  "cells": [
    {
      "cell_type": "code",
      "execution_count": null,
      "metadata": {
        "id": "S3Y0xkZiIKmj"
      },
      "outputs": [],
      "source": []
    },
    {
      "cell_type": "markdown",
      "source": [
        "**Install Packages**"
      ],
      "metadata": {
        "id": "TrA59M9mJCpj"
      }
    },
    {
      "cell_type": "code",
      "source": [
        "from google.colab import output, drive, files # specific to Google Colab\n",
        "import pandas as pd\n",
        "import numpy as np\n",
        "import plotly.express as px\n",
        "import requests\n",
        "import warnings\n",
        "\n",
        "# settings\n",
        "warnings.filterwarnings(\"ignore\")\n",
        "pd.set_option(\"display.max_columns\", None)"
      ],
      "metadata": {
        "id": "UNPmX9Z9IyDB"
      },
      "execution_count": 1,
      "outputs": []
    },
    {
      "cell_type": "markdown",
      "source": [
        "**Functions**"
      ],
      "metadata": {
        "id": "zRt81V4eJHoS"
      }
    },
    {
      "cell_type": "code",
      "source": [
        "def get_listings(api_key, listing_url):\n",
        "    url = \"https://app.scrapeak.com/v1/scrapers/zillow/listing\"\n",
        "\n",
        "    querystring = {\n",
        "        \"api_key\": api_key,\n",
        "        \"url\":listing_url\n",
        "    }\n",
        "\n",
        "    return requests.request(\"GET\", url, params=querystring)\n",
        "\n",
        "def get_property_detail(api_key, zpid):\n",
        "    url = \"https://app.scrapeak.com/v1/scrapers/zillow/property\"\n",
        "\n",
        "    querystring = {\n",
        "        \"api_key\": api_key,\n",
        "        \"zpid\":zpid\n",
        "    }\n",
        "\n",
        "    return requests.request(\"GET\", url, params=querystring)\n",
        "\n",
        "def get_zpid(api_key, street, city, state, zip_code=None):\n",
        "    url = \"https://app.scrapeak.com/v1/scrapers/zillow/zpidByAddress\"\n",
        "\n",
        "    querystring = {\n",
        "        \"api_key\": api_key,\n",
        "        \"street\": street,\n",
        "        \"city\": city,\n",
        "        \"state\": state,\n",
        "        \"zip_code\":zip_code\n",
        "    }\n",
        "\n",
        "    return requests.request(\"GET\", url, params=querystring)"
      ],
      "metadata": {
        "id": "5jvRZK1WI41F"
      },
      "execution_count": 2,
      "outputs": []
    },
    {
      "cell_type": "markdown",
      "source": [
        "**Locals & Constants**"
      ],
      "metadata": {
        "id": "z6RE55xVJMlA"
      }
    },
    {
      "cell_type": "code",
      "source": [
        "############\n",
        "# OPTIONAL #\n",
        "############\n",
        "\n",
        "# mount drive\n",
        "#drive.mount(\"/content/drive\", force_remount=False)\n",
        "\n",
        "# data location\n",
        "file_dir = \"/content/drive/My Drive/Colab Data/input/\" # optional\n",
        "\n"
      ],
      "metadata": {
        "id": "x0BlPbcjJd0C"
      },
      "execution_count": 3,
      "outputs": []
    },
    {
      "cell_type": "markdown",
      "source": [
        "# New Section"
      ],
      "metadata": {
        "id": "N7s-5gUPKds_"
      }
    },
    {
      "cell_type": "code",
      "source": [
        "# read in api key file\n",
        "#df_api_keys = pd.read_csv(file_dir + \"api_keys.csv\")\n",
        "# get keys\n",
        "#api_key = df_api_keys.loc[df_api_keys[\"API\"] == \"scrapeak\"][\"KEY\"].iloc[0] # replace this with your own key\n",
        "#api_key ='156b46f9-1d41-40b6-8052-62510a6d3327\n",
        "api_key ='bb649b92-e19a-4bd2-b5aa-37df638575e8'"
      ],
      "metadata": {
        "id": "Pkcj_ZdxJxIa"
      },
      "execution_count": 4,
      "outputs": []
    },
    {
      "cell_type": "code",
      "source": [],
      "metadata": {
        "id": "LzLX6oE4In92"
      },
      "execution_count": null,
      "outputs": []
    },
    {
      "cell_type": "markdown",
      "source": [
        "**Data**"
      ],
      "metadata": {
        "id": "hdJiEvHXJUxr"
      }
    },
    {
      "cell_type": "markdown",
      "source": [
        "**1. Property Listings For Sale**"
      ],
      "metadata": {
        "id": "lZPaQcT9JDV7"
      }
    },
    {
      "cell_type": "code",
      "source": [
        "## zillow search url\n",
        "#listing_url = \"https://www.zillow.com/prosper-tx/?searchQueryState=%7B%22pagination%22%3A%7B%7D%2C%22isMapVisible%22%3Atrue%2C%22mapBounds%22%3A%7B%22north%22%3A45.64974638372341%2C%22south%22%3A27.61198105167906%2C%22east%22%3A-71.76382025000001%2C%22west%22%3A-98.83413275000001%7D%2C%22regionSelection%22%3A%5B%7B%22regionId%22%3A33547%2C%22regionType%22%3A6%7D%2C%7B%22regionId%22%3A6181%2C%22regionType%22%3A6%7D%5D%2C%22filterState%22%3A%7B%22sort%22%3A%7B%22value%22%3A%22globalrelevanceex%22%7D%2C%22ah%22%3A%7B%22value%22%3Atrue%7D%7D%2C%22isListVisible%22%3Atrue%2C%22mapZoom%22%3A5%7D\"\n",
        "listing_url = \"https://www.zillow.com/homes/for_sale/?searchQueryState=%7B%22mapBounds%22%3A%7B%22north%22%3A40.896601543545266%2C%22east%22%3A-73.73176979892379%2C%22south%22%3A40.68137423871844%2C%22west%22%3A-74.1334574209941%7D%2C%22isMapVisible%22%3Atrue%2C%22filterState%22%3A%7B%22sort%22%3A%7B%22value%22%3A%22days%22%7D%2C%22ah%22%3A%7B%22value%22%3Atrue%7D%7D%2C%22isListVisible%22%3Atrue%2C%22mapZoom%22%3A12%2C%22customRegionId%22%3A%22a1905651baX1-CR1d5cdoyspx32d_1ec136%22%7D\"\n",
        "# get listings\n",
        "listing_response = get_listings(api_key, listing_url)"
      ],
      "metadata": {
        "id": "pB7exujzJHZb"
      },
      "execution_count": 5,
      "outputs": []
    },
    {
      "cell_type": "code",
      "source": [
        "# view count of properies returned in request\n",
        "num_of_properties = listing_response.json()[\"data\"][\"categoryTotals\"][\"cat1\"][\"totalResultCount\"]\n",
        "print(\"Count of properties:\", num_of_properties)"
      ],
      "metadata": {
        "colab": {
          "base_uri": "https://localhost:8080/",
          "height": 219
        },
        "id": "OyHMeNVSKJJP",
        "outputId": "8b09f9fc-a426-47b0-9863-6b895572707d"
      },
      "execution_count": 6,
      "outputs": [
        {
          "output_type": "error",
          "ename": "KeyError",
          "evalue": "ignored",
          "traceback": [
            "\u001b[0;31m---------------------------------------------------------------------------\u001b[0m",
            "\u001b[0;31mKeyError\u001b[0m                                  Traceback (most recent call last)",
            "\u001b[0;32m<ipython-input-6-f26b62062cfb>\u001b[0m in \u001b[0;36m<cell line: 2>\u001b[0;34m()\u001b[0m\n\u001b[1;32m      1\u001b[0m \u001b[0;31m# view count of properies returned in request\u001b[0m\u001b[0;34m\u001b[0m\u001b[0;34m\u001b[0m\u001b[0m\n\u001b[0;32m----> 2\u001b[0;31m \u001b[0mnum_of_properties\u001b[0m \u001b[0;34m=\u001b[0m \u001b[0mlisting_response\u001b[0m\u001b[0;34m.\u001b[0m\u001b[0mjson\u001b[0m\u001b[0;34m(\u001b[0m\u001b[0;34m)\u001b[0m\u001b[0;34m[\u001b[0m\u001b[0;34m\"data\"\u001b[0m\u001b[0;34m]\u001b[0m\u001b[0;34m[\u001b[0m\u001b[0;34m\"categoryTotals\"\u001b[0m\u001b[0;34m]\u001b[0m\u001b[0;34m[\u001b[0m\u001b[0;34m\"cat1\"\u001b[0m\u001b[0;34m]\u001b[0m\u001b[0;34m[\u001b[0m\u001b[0;34m\"totalResultCount\"\u001b[0m\u001b[0;34m]\u001b[0m\u001b[0;34m\u001b[0m\u001b[0;34m\u001b[0m\u001b[0m\n\u001b[0m\u001b[1;32m      3\u001b[0m \u001b[0mprint\u001b[0m\u001b[0;34m(\u001b[0m\u001b[0;34m\"Count of properties:\"\u001b[0m\u001b[0;34m,\u001b[0m \u001b[0mnum_of_properties\u001b[0m\u001b[0;34m)\u001b[0m\u001b[0;34m\u001b[0m\u001b[0;34m\u001b[0m\u001b[0m\n",
            "\u001b[0;31mKeyError\u001b[0m: 'categoryTotals'"
          ]
        }
      ]
    },
    {
      "cell_type": "code",
      "source": [
        "import json\n",
        "x=json.dumps( listing_response.json())\n",
        "print(x)\n",
        "with open('x','w') as outfile:\n",
        "  outfile.write(x)\n"
      ],
      "metadata": {
        "id": "oiD2Xqcjm5em"
      },
      "execution_count": null,
      "outputs": []
    },
    {
      "cell_type": "code",
      "source": [
        "# view all listings\n",
        "df_listings = pd.json_normalize(listing_response.json()[\"data\"][\"cat1\"][\"searchResults\"][\"mapResults\"])\n",
        "print(\"Number of rows:\", len(df_listings))\n",
        "print(\"Number of columns:\", len(df_listings.columns))\n",
        "df_listings"
      ],
      "metadata": {
        "id": "CjxHWBhpKCwi"
      },
      "execution_count": null,
      "outputs": []
    },
    {
      "cell_type": "code",
      "source": [
        "df_listings.to_csv(\"manhattan_listings.csv\")\n",
        "files.download(\"manhattan_listings.csv\")"
      ],
      "metadata": {
        "id": "UyRobO-eSGKX"
      },
      "execution_count": null,
      "outputs": []
    },
    {
      "cell_type": "markdown",
      "source": [
        "**Rental Property Listings For Rent**"
      ],
      "metadata": {
        "id": "ZmIJBaIZJjFO"
      }
    },
    {
      "cell_type": "code",
      "source": [
        "# zillow search url\n",
        "rent_listing_url = \"https://www.zillow.com/homes/for_rent/?searchQueryState=%7B%22mapBounds%22%3A%7B%22north%22%3A40.812333570567255%2C%22east%22%3A-73.91048556073008%2C%22south%22%3A40.75852378661119%2C%22west%22%3A-74.01090746624766%7D%2C%22isMapVisible%22%3Atrue%2C%22filterState%22%3A%7B%22sort%22%3A%7B%22value%22%3A%22days%22%7D%2C%22ah%22%3A%7B%22value%22%3Atrue%7D%2C%22fr%22%3A%7B%22value%22%3Atrue%7D%2C%22fsba%22%3A%7B%22value%22%3Afalse%7D%2C%22fsbo%22%3A%7B%22value%22%3Afalse%7D%2C%22nc%22%3A%7B%22value%22%3Afalse%7D%2C%22cmsn%22%3A%7B%22value%22%3Afalse%7D%2C%22auc%22%3A%7B%22value%22%3Afalse%7D%2C%22fore%22%3A%7B%22value%22%3Afalse%7D%7D%2C%22isListVisible%22%3Atrue%2C%22mapZoom%22%3A14%2C%22customRegionId%22%3A%22a1905651baX1-CR1d5cdoyspx32d_1ec136%22%2C%22pagination%22%3A%7B%7D%2C%22usersSearchTerm%22%3A%22%22%7D\""
      ],
      "metadata": {
        "id": "_1gI00-gJb-Z"
      },
      "execution_count": null,
      "outputs": []
    },
    {
      "cell_type": "code",
      "source": [
        "# get listings\n",
        "rent_listing_response = get_listings(api_key, rent_listing_url)"
      ],
      "metadata": {
        "id": "LlYCdKwcKECW"
      },
      "execution_count": null,
      "outputs": []
    },
    {
      "cell_type": "code",
      "source": [
        "# view rent zestimate\n",
        "px.box(df_listings, x=\"hdpData.homeInfo.rentZestimate\", title=\"Rent Zestimate Box Plot\")\n"
      ],
      "metadata": {
        "id": "4A6F34hpK7RC"
      },
      "execution_count": null,
      "outputs": []
    },
    {
      "cell_type": "code",
      "source": [
        "listing_response=get_property_detail(api_key, 182378290)"
      ],
      "metadata": {
        "id": "YDN44tSpuLKr"
      },
      "execution_count": null,
      "outputs": []
    },
    {
      "cell_type": "code",
      "source": [
        "# view all keys\n",
        "print(rent_listing_response.json().keys())\n",
        "\n",
        "# check if request is successful\n",
        "print(\"Request success:\", rent_listing_response.json()[\"is_success\"])\n",
        "\n",
        "# view count of properies returned in request\n",
        "num_of_properties = rent_listing_response.json()[\"data\"][\"categoryTotals\"][\"cat1\"][\"totalResultCount\"]\n",
        "print(\"Count of properties:\", num_of_properties)"
      ],
      "metadata": {
        "id": "MSWMcGRkJ-C0"
      },
      "execution_count": null,
      "outputs": []
    },
    {
      "cell_type": "code",
      "source": [
        "# view all listings\n",
        "df_rent_listings = pd.json_normalize(rent_listing_response.json()[\"data\"][\"cat1\"][\"searchResults\"][\"mapResults\"])\n",
        "print(\"Number of rows:\", len(df_rent_listings))\n",
        "print(\"Number of columns:\", len(df_rent_listings.columns))\n",
        "df_rent_listings"
      ],
      "metadata": {
        "id": "Hl9qP_oQKOc3"
      },
      "execution_count": null,
      "outputs": []
    },
    {
      "cell_type": "markdown",
      "source": [],
      "metadata": {
        "id": "jsRzOqLLLEIH"
      }
    },
    {
      "cell_type": "markdown",
      "source": [
        "**Get Property price History Data by zpid for all in property listing dataframe**"
      ],
      "metadata": {
        "id": "F8sSlhhopsk7"
      }
    },
    {
      "cell_type": "code",
      "source": [
        "from pandas.core.indexes.base import is_string_dtype\n",
        "df = pd.DataFrame() #Initialise a blank dataframe\n",
        "#Use count to keep track on how many data fetches are done\n",
        "count=0\n",
        "#loop through property listing data and fetch corresponding property details data for each zpid\n",
        "for zpid in df_listings['zpid']:\n",
        "\n",
        "    if type(zpid)==str:\n",
        "      zpid_=zpid\n",
        "\n",
        "      prop_detail_response = get_property_detail(api_key, zpid_)\n",
        "\n",
        "      df_prop = pd.json_normalize(prop_detail_response.json()['data'])\n",
        "\n",
        "      df_price_hist = pd.DataFrame(df_prop[\"priceHistory\"].iloc[0])\n",
        "      # check if request is successful\n",
        "      print(\"Request success:\", prop_detail_response.json()[\"is_success\"])\n",
        "      df_price_hist[\"zpid\"]=zpid_\n",
        "\n",
        "\n",
        "      if df.empty:\n",
        "        #Assign df to first property details data captured\n",
        "        df=df_price_hist\n",
        "\n",
        "      else:\n",
        "        #Merge the rest of property details data collected with initial data\n",
        "        df=df.append(df_price_hist)\n",
        "        count+=1\n"
      ],
      "metadata": {
        "id": "TpeF27WxpzF5"
      },
      "execution_count": null,
      "outputs": []
    },
    {
      "cell_type": "markdown",
      "source": [
        "**Download price history data**"
      ],
      "metadata": {
        "id": "DeoxKZsqbkQF"
      }
    },
    {
      "cell_type": "code",
      "source": [
        "df.to_csv(\"df_price_hist.csv\")\n",
        "files.download(\"df_price_hist.csv\")"
      ],
      "metadata": {
        "colab": {
          "base_uri": "https://localhost:8080/",
          "height": 17
        },
        "id": "oS2vkACan5xE",
        "outputId": "c7f38732-b3a1-4286-8f15-75d2c69dce12"
      },
      "execution_count": null,
      "outputs": [
        {
          "output_type": "display_data",
          "data": {
            "text/plain": [
              "<IPython.core.display.Javascript object>"
            ],
            "application/javascript": [
              "\n",
              "    async function download(id, filename, size) {\n",
              "      if (!google.colab.kernel.accessAllowed) {\n",
              "        return;\n",
              "      }\n",
              "      const div = document.createElement('div');\n",
              "      const label = document.createElement('label');\n",
              "      label.textContent = `Downloading \"${filename}\": `;\n",
              "      div.appendChild(label);\n",
              "      const progress = document.createElement('progress');\n",
              "      progress.max = size;\n",
              "      div.appendChild(progress);\n",
              "      document.body.appendChild(div);\n",
              "\n",
              "      const buffers = [];\n",
              "      let downloaded = 0;\n",
              "\n",
              "      const channel = await google.colab.kernel.comms.open(id);\n",
              "      // Send a message to notify the kernel that we're ready.\n",
              "      channel.send({})\n",
              "\n",
              "      for await (const message of channel.messages) {\n",
              "        // Send a message to notify the kernel that we're ready.\n",
              "        channel.send({})\n",
              "        if (message.buffers) {\n",
              "          for (const buffer of message.buffers) {\n",
              "            buffers.push(buffer);\n",
              "            downloaded += buffer.byteLength;\n",
              "            progress.value = downloaded;\n",
              "          }\n",
              "        }\n",
              "      }\n",
              "      const blob = new Blob(buffers, {type: 'application/binary'});\n",
              "      const a = document.createElement('a');\n",
              "      a.href = window.URL.createObjectURL(blob);\n",
              "      a.download = filename;\n",
              "      div.appendChild(a);\n",
              "      a.click();\n",
              "      div.remove();\n",
              "    }\n",
              "  "
            ]
          },
          "metadata": {}
        },
        {
          "output_type": "display_data",
          "data": {
            "text/plain": [
              "<IPython.core.display.Javascript object>"
            ],
            "application/javascript": [
              "download(\"download_8bc520bf-9227-4353-89b1-fce41009c1ac\", \"df_price_hist.csv\", 94418)"
            ]
          },
          "metadata": {}
        }
      ]
    }
  ]
}